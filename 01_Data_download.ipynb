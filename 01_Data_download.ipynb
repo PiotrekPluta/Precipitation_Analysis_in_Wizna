{
 "cells": [
  {
   "cell_type": "markdown",
   "metadata": {},
   "source": [
    "# Download precipitation data from Polish Institute of Meteorology and Water Management - National Research Institute\n",
    "\n",
    "The aim of this notebook is to download data from a website of Polish Institute of Meteorology and process them in order to optain a Pandas Data Frame with monthly precipitation data since 1951 till present.\n",
    "\n",
    "Data souce: https://dane.imgw.pl/data/dane_pomiarowo_obserwacyjne/dane_meteorologiczne/miesieczne/opad/\n",
    "\n"
   ]
  },
  {
   "cell_type": "code",
   "execution_count": 9,
   "metadata": {},
   "outputs": [],
   "source": [
    "import requests, re, zipfile, io\n",
    "from bs4 import BeautifulSoup\n",
    "\n",
    "url = 'https://dane.imgw.pl/data/dane_pomiarowo_obserwacyjne/dane_meteorologiczne/miesieczne/opad/'\n",
    "target_data_folder = 'Data'"
   ]
  },
  {
   "cell_type": "code",
   "execution_count": 10,
   "metadata": {},
   "outputs": [],
   "source": [
    "# 1. Parse a site with meteorological data\n",
    "def get_html_of_a_meteo_site(url):\n",
    "    site_with_catalogs = requests.get(url)\n",
    "    site_html = BeautifulSoup(site_with_catalogs.text, 'html.parser')\n",
    "    return site_html\n",
    "    \n",
    "# 2. Extract a list of folders\n",
    "def make_data_link_list(site_html):\n",
    "    list_of_links = [link.get(\"href\", None) for link in site_html.find_all('a', href=re.compile(\"\\d{4}(:?_\\d{4})?\")) ]  #\\d{4}\n",
    "    return list_of_links\n",
    "\n",
    "\n",
    "# 3. Download zip files and extract them\n",
    "def download_and_extract_zip(file_url, target_folder):\n",
    "    response = requests.get(file_url)\n",
    "    if response.status_code == 200:\n",
    "        z = zipfile.ZipFile(io.BytesIO(response.content))\n",
    "        z.extractall(target_folder)\n",
    "\n",
    "        \n",
    "# 4. Iterate through all folders and download files\n",
    "def walk_folders_and_get_meteo_files(url, target_data_folder):\n",
    "    site_html = get_html_of_a_meteo_site(url)\n",
    "    list_of_folders = make_data_link_list(site_html)\n",
    "    for folder_link in list_of_folders:\n",
    "        print(f'Files from from {folder_link} are ready to be downloaded.')\n",
    "        site_html_with_files = get_html_of_a_meteo_site(url+folder_link)\n",
    "        list_of_files = make_data_link_list(site_html_with_files)\n",
    "        for file_link in list_of_files:\n",
    "            file_url=url+folder_link+file_link\n",
    "            download_and_extract_zip(file_url, target_data_folder)\n",
    "            print(f'File: {file_link} has been downloaded.')\n",
    "    print('All data available had been downloaded')\n",
    "    "
   ]
  },
  {
   "cell_type": "code",
   "execution_count": 11,
   "metadata": {
    "scrolled": true
   },
   "outputs": [
    {
     "name": "stdout",
     "output_type": "stream",
     "text": [
      "Files from from 1950_1955/ are ready to be downloaded.\n",
      "File: 1950_1955_m_o.zip has been downloaded.\n",
      "Files from from 1956_1960/ are ready to be downloaded.\n",
      "File: 1956_1960_m_o.zip has been downloaded.\n",
      "Files from from 1961_1965/ are ready to be downloaded.\n",
      "File: 1961_1965_m_o.zip has been downloaded.\n",
      "Files from from 1966_1970/ are ready to be downloaded.\n",
      "File: 1966_1970_m_o.zip has been downloaded.\n",
      "Files from from 1971_1975/ are ready to be downloaded.\n",
      "File: 1971_1975_m_o.zip has been downloaded.\n",
      "Files from from 1976_1980/ are ready to be downloaded.\n",
      "File: 1976_1980_m_o.zip has been downloaded.\n",
      "Files from from 1981_1985/ are ready to be downloaded.\n",
      "File: 1981_1985_m_o.zip has been downloaded.\n",
      "Files from from 1986_1990/ are ready to be downloaded.\n",
      "File: 1986_1990_m_o.zip has been downloaded.\n",
      "Files from from 1991_1995/ are ready to be downloaded.\n",
      "File: 1991_1995_m_o.zip has been downloaded.\n",
      "Files from from 1996_2000/ are ready to be downloaded.\n",
      "File: 1996_2000_m_o.zip has been downloaded.\n",
      "Files from from 2001/ are ready to be downloaded.\n",
      "File: 2001_m_o.zip has been downloaded.\n",
      "Files from from 2002/ are ready to be downloaded.\n",
      "File: 2002_m_o.zip has been downloaded.\n",
      "Files from from 2003/ are ready to be downloaded.\n",
      "File: 2003_m_o.zip has been downloaded.\n",
      "Files from from 2004/ are ready to be downloaded.\n",
      "File: 2004_m_o.zip has been downloaded.\n",
      "Files from from 2005/ are ready to be downloaded.\n",
      "File: 2005_m_o.zip has been downloaded.\n",
      "Files from from 2006/ are ready to be downloaded.\n",
      "File: 2006_m_o.zip has been downloaded.\n",
      "Files from from 2007/ are ready to be downloaded.\n",
      "File: 2007_m_o.zip has been downloaded.\n",
      "Files from from 2008/ are ready to be downloaded.\n",
      "File: 2008_m_o.zip has been downloaded.\n",
      "Files from from 2009/ are ready to be downloaded.\n",
      "File: 2009_m_o.zip has been downloaded.\n",
      "Files from from 2010/ are ready to be downloaded.\n",
      "File: 2010_m_o.zip has been downloaded.\n",
      "Files from from 2011/ are ready to be downloaded.\n",
      "File: 2011_m_o.zip has been downloaded.\n",
      "Files from from 2012/ are ready to be downloaded.\n",
      "File: 2012_m_o.zip has been downloaded.\n",
      "Files from from 2013/ are ready to be downloaded.\n",
      "File: 2013_m_o.zip has been downloaded.\n",
      "Files from from 2014/ are ready to be downloaded.\n",
      "File: 2014_m_o.zip has been downloaded.\n",
      "Files from from 2015/ are ready to be downloaded.\n",
      "File: 2015_m_o.zip has been downloaded.\n",
      "Files from from 2016/ are ready to be downloaded.\n",
      "File: 2016_m_o.zip has been downloaded.\n",
      "Files from from 2017/ are ready to be downloaded.\n",
      "File: 2017_m_o.zip has been downloaded.\n",
      "Files from from 2018/ are ready to be downloaded.\n",
      "File: 2018_m_o.zip has been downloaded.\n",
      "Files from from 2019/ are ready to be downloaded.\n",
      "File: 2019_m_o.zip has been downloaded.\n",
      "All data available had been downloaded\n"
     ]
    }
   ],
   "source": [
    "walk_folders_and_get_meteo_files(url, target_data_folder)"
   ]
  },
  {
   "cell_type": "code",
   "execution_count": null,
   "metadata": {},
   "outputs": [],
   "source": []
  }
 ],
 "metadata": {
  "kernelspec": {
   "display_name": "Python 3",
   "language": "python",
   "name": "python3"
  },
  "language_info": {
   "codemirror_mode": {
    "name": "ipython",
    "version": 3
   },
   "file_extension": ".py",
   "mimetype": "text/x-python",
   "name": "python",
   "nbconvert_exporter": "python",
   "pygments_lexer": "ipython3",
   "version": "3.7.4"
  }
 },
 "nbformat": 4,
 "nbformat_minor": 2
}
